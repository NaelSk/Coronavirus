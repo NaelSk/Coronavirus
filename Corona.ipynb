{
 "cells": [
  {
   "cell_type": "code",
   "execution_count": 4,
   "metadata": {},
   "outputs": [],
   "source": [
    "import requests\n",
    "import pandas as pd\n",
    "import matplotlib.pyplot as plt\n",
    "\n",
    "from datetime import datetime\n",
    "\n",
    "import seaborn as sns\n"
   ]
  },
  {
   "cell_type": "code",
   "execution_count": 5,
   "metadata": {},
   "outputs": [
    {
     "data": {
      "image/png": "[encoded data removed]",
      "text/plain": [
       "<Figure size 432x288 with 1 Axes>"
      ]
     },
     "metadata": {
      "needs_background": "light"
     },
     "output_type": "display_data"
    },
    {
     "name": "stdout",
     "output_type": "stream",
     "text": [
      "number_of_infection             int64\n",
      "Date                   datetime64[ns]\n",
      "dtype: object\n",
      "    number_of_infection       Date\n",
      "0                     3 2020-03-08\n",
      "1                     1 2020-03-09\n",
      "2                     2 2020-03-10\n",
      "3                     6 2020-03-11\n",
      "4                     2 2020-03-12\n",
      "5                     1 2020-03-13\n",
      "6                     1 2020-03-14\n",
      "7                     2 2020-03-16\n",
      "8                     3 2020-03-18\n",
      "9                     1 2020-03-19\n",
      "10                    4 2020-03-20\n",
      "11                    1 2020-03-21\n",
      "12                    2 2020-03-22\n",
      "13                    3 2020-03-23\n",
      "14                    3 2020-03-24\n",
      "15                   13 2020-03-25\n",
      "16                    3 2020-03-26\n",
      "17                    1 2020-03-27\n",
      "18                    7 2020-03-29\n",
      "19                   11 2020-03-30\n",
      "20                    4 2020-03-31\n",
      "21                    4 2020-04-01\n",
      "22                    6 2020-04-02\n",
      "23                    5 2020-04-03\n",
      "24                    2 2020-04-04\n",
      "25                    1 2020-04-05\n",
      "26                    3 2020-04-06\n",
      "27                    4 2020-04-07\n",
      "28                    4 2020-04-08\n",
      "29                    2 2020-04-09\n",
      "30                    2 2020-04-10\n",
      "31                    1 2020-04-12\n",
      "32                    1 2020-04-13\n",
      "33                    3 2020-04-14\n",
      "34                    3 2020-04-15\n",
      "35                    2 2020-04-19\n",
      "36                    2 2020-04-20\n",
      "37                    2 2020-04-22\n",
      "38                    1 2020-04-23\n",
      "39                    2 2020-04-24\n",
      "40                    2 2020-04-26\n",
      "41                    1 2020-04-27\n"
     ]
    }
   ],
   "source": [
    "def split_date1(df):\n",
    "    #Split one colum according to space\n",
    "    new=df.Päiväys.str.split(\"-\",expand=True)\n",
    "    df[\"Date\"]=new[0]\n",
    "    df2=df.astype({\"Date\":str})\n",
    "     \n",
    "    df3=df2.drop(columns=\"Päiväys\")\n",
    "\n",
    "    new=df3.Date.str.split(\".\",expand=True)\n",
    "    df3[\"Day\"]=new[0]\n",
    "    df3[\"Month\"]=new[1]\n",
    "    df3[\"Year\"]=new[2]\n",
    "    df4=df3.drop(columns=\"Date\")\n",
    "    #print(df4)\n",
    "    return df4\n",
    "\n",
    "\n",
    "def data_collecter():\n",
    "    url = 'https://korona.kans.io/'\n",
    "    html = requests.get(url).content\n",
    "    df_list = pd.read_html(html)\n",
    "    df = df_list[-1]\n",
    "    processed_data=split_date1(df)\n",
    "    return processed_data#(processed_data.to_csv('my data.csv'))\n",
    "\n",
    "\n",
    "def data_city(df,city):\n",
    "    mask=df[\"Sair.hoitopiiri\"]==city\n",
    "    return df[mask]\n",
    "\n",
    "\n",
    "def grouping(df):\n",
    "    groups=df.groupby([\"Year\",\"Month\",\"Day\"]).size().reset_index(name ='number_of_infection')\n",
    "    groups=groups.astype(int)\n",
    "    \n",
    "    groups['Date'] = groups.apply(lambda row: datetime.strptime(f\"{int(row.Year)}-{int(row.Month)}-{int(row.Day)}\", '%Y-%m-%d'), axis=1)\n",
    "    \n",
    "    groups=groups.drop(columns=[\"Year\", \"Month\", \"Day\"])\n",
    "    \n",
    "    plt.bar(groups[\"Date\"], groups[\"number_of_infection\"] )\n",
    "    plt.xlabel('Data')\n",
    "    plt.ylabel('Number of infection') \n",
    "    plt.xticks(rotation=70)\n",
    "    plt.show() \n",
    "    return  groups\n",
    "\n",
    "def main():\n",
    "    data=data_collecter()\n",
    "    #print(data.columns)\n",
    "    data=data_city(data,\"Keski-Suomi\")\n",
    "    data=grouping(data)\n",
    "    print(data.dtypes)\n",
    "    #print(data.columns)\n",
    "    \n",
    "    return data\n",
    "\n",
    "if __name__ == \"__main__\":\n",
    "    print(main())\n"
   ]
  },
  {
   "cell_type": "code",
   "execution_count": null,
   "metadata": {},
   "outputs": [],
   "source": []
  },
  {
   "cell_type": "code",
   "execution_count": null,
   "metadata": {},
   "outputs": [],
   "source": []
  },
  {
   "cell_type": "code",
   "execution_count": null,
   "metadata": {},
   "outputs": [],
   "source": []
  }
 ],
 "metadata": {
  "kernelspec": {
   "display_name": "Python 3",
   "language": "python",
   "name": "python3"
  },
  "language_info": {
   "codemirror_mode": {
    "name": "ipython",
    "version": 3
   },
   "file_extension": ".py",
   "mimetype": "text/x-python",
   "name": "python",
   "nbconvert_exporter": "python",
   "pygments_lexer": "ipython3",
   "version": "3.7.5"
  }
 },
 "nbformat": 4,
 "nbformat_minor": 2
}
